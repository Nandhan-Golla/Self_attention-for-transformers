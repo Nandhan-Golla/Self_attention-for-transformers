{
  "nbformat": 4,
  "nbformat_minor": 0,
  "metadata": {
    "colab": {
      "provenance": []
    },
    "kernelspec": {
      "name": "python3",
      "display_name": "Python 3"
    },
    "language_info": {
      "name": "python"
    }
  },
  "cells": [
    {
      "cell_type": "markdown",
      "source": [
        "# Self Attention in Transformers"
      ],
      "metadata": {
        "id": "gO5Z0qErNuOt"
      }
    },
    {
      "cell_type": "markdown",
      "source": [
        "## Generate Data"
      ],
      "metadata": {
        "id": "HedntyUvLrBo"
      }
    },
    {
      "cell_type": "code",
      "source": [
        "import numpy as np\n",
        "import math\n",
        "\n",
        "L, d_k, d_v = 4, 8, 8\n",
        "q = np.random.randn(L, d_k)\n",
        "k = np.random.randn(L, d_k)\n",
        "v = np.random.randn(L, d_v)"
      ],
      "metadata": {
        "id": "xtKbaWhFJui3"
      },
      "execution_count": 1,
      "outputs": []
    },
    {
      "cell_type": "code",
      "source": [
        "print(\"Q\\n\", q)\n",
        "print(\"K\\n\", k)\n",
        "print(\"V\\n\", v)"
      ],
      "metadata": {
        "colab": {
          "base_uri": "https://localhost:8080/"
        },
        "id": "09JpvuNJ2sZC",
        "outputId": "fb83d894-b4d9-46b7-b2d3-3db6cab10614"
      },
      "execution_count": 2,
      "outputs": [
        {
          "output_type": "stream",
          "name": "stdout",
          "text": [
            "Q\n",
            " [[-8.40458589e-02  3.99050485e-01  3.14351957e-02  1.40126345e+00\n",
            "   8.03466156e-01  1.42979362e+00 -1.17161170e+00 -1.59378880e+00]\n",
            " [ 5.41274377e-01 -8.47902052e-02  2.76591907e-01  2.65523872e-01\n",
            "  -2.88359451e-01 -2.78486756e-01 -4.10098863e-01 -2.39111812e-01]\n",
            " [-1.17558885e+00  1.48631684e+00  2.35151985e-01 -2.12834985e-01\n",
            "   3.57923144e-04  1.97128215e+00  2.80536086e-02  1.24816311e-01]\n",
            " [ 6.96524172e-02 -1.25102375e-01 -1.87162323e+00 -4.72408516e-01\n",
            "   7.77379372e-01 -2.70110097e-01  2.05871084e+00 -1.23797616e+00]]\n",
            "K\n",
            " [[ 0.05598404 -2.12251061 -1.60331461  0.94812262  0.65457539 -0.44988676\n",
            "  -0.59631323  1.93199314]\n",
            " [-0.51362603  0.01482244  0.98385343  1.59871025 -1.64343588 -0.46582907\n",
            "   0.10012008  0.22925616]\n",
            " [ 0.15454578  0.74031909 -0.84109077  0.58904157 -0.52782392 -1.65597203\n",
            "  -0.57589727 -0.00436591]\n",
            " [-0.11334296 -0.85600336 -1.19641934  0.99629672  0.34737519  1.78293352\n",
            "   0.00761595 -0.25721772]]\n",
            "V\n",
            " [[-1.46622247 -2.27459364 -0.59591388 -1.06136793  0.1380752  -0.35281893\n",
            "  -0.3519526  -1.64112567]\n",
            " [-1.27014814 -0.64153339  2.06416627 -0.02084157 -0.25648375 -2.93217476\n",
            "   0.49362628 -0.40868729]\n",
            " [-0.36079576  1.31925429 -1.02062778 -1.84029535  1.24019542 -0.75502392\n",
            "  -1.89014421 -0.57284428]\n",
            " [-1.74486497 -0.42064796  1.66426187  0.50211692  0.52110964 -0.0519156\n",
            "   0.36131588 -0.29229462]]\n"
          ]
        }
      ]
    },
    {
      "cell_type": "markdown",
      "source": [
        "## Self Attention\n",
        "\n",
        "$$\n",
        "\\text{self attention} = softmax\\bigg(\\frac{Q.K^T}{\\sqrt{d_k}}+M\\bigg)\n",
        "$$\n",
        "\n",
        "$$\n",
        "\\text{new V} = \\text{self attention}.V\n",
        "$$"
      ],
      "metadata": {
        "id": "tV6txskBLwjh"
      }
    },
    {
      "cell_type": "code",
      "source": [
        "np.matmul(q, k.T)"
      ],
      "metadata": {
        "colab": {
          "base_uri": "https://localhost:8080/"
        },
        "id": "x7GePHKk3Mh0",
        "outputId": "e28389a0-0850-4dbf-b939-ad45b0858112"
      },
      "execution_count": 3,
      "outputs": [
        {
          "output_type": "execute_result",
          "data": {
            "text/plain": [
              "array([[-2.07138256, -0.1489474 , -1.02870224,  4.25576092],\n",
              "       [-0.26232432,  0.92510273,  0.79523362, -0.59346007],\n",
              "       [-4.46155767, -0.37050762, -2.68576434,  1.85046339],\n",
              "       [-0.16669537, -3.86372028,  0.07085985,  1.99034302]])"
            ]
          },
          "metadata": {},
          "execution_count": 3
        }
      ]
    },
    {
      "cell_type": "code",
      "source": [
        "# Why we need sqrt(d_k) in denominator\n",
        "q.var(), k.var(), np.matmul(q, k.T).var()"
      ],
      "metadata": {
        "colab": {
          "base_uri": "https://localhost:8080/"
        },
        "id": "odK76OoI3nL2",
        "outputId": "69b50cdb-9a41-45ae-bfd2-619228af1ef7"
      },
      "execution_count": null,
      "outputs": [
        {
          "output_type": "execute_result",
          "data": {
            "text/plain": [
              "(0.8672192297664698, 0.9229851723027697, 5.1446872979260165)"
            ]
          },
          "metadata": {},
          "execution_count": 4
        }
      ]
    },
    {
      "cell_type": "code",
      "source": [
        "scaled = np.matmul(q, k.T) / math.sqrt(d_k)\n",
        "q.var(), k.var(), scaled.var()"
      ],
      "metadata": {
        "colab": {
          "base_uri": "https://localhost:8080/"
        },
        "id": "0Ps6AY1Q3tRI",
        "outputId": "3b9ac3c8-70b8-47bd-e868-e7d6fd26d270"
      },
      "execution_count": null,
      "outputs": [
        {
          "output_type": "execute_result",
          "data": {
            "text/plain": [
              "(0.8672192297664698, 0.9229851723027697, 0.643085912240752)"
            ]
          },
          "metadata": {},
          "execution_count": 5
        }
      ]
    },
    {
      "cell_type": "markdown",
      "source": [
        "Notice the reduction in variance of the product"
      ],
      "metadata": {
        "id": "ypO9IK1PL3cJ"
      }
    },
    {
      "cell_type": "code",
      "source": [
        "scaled"
      ],
      "metadata": {
        "colab": {
          "base_uri": "https://localhost:8080/"
        },
        "id": "LVHAJR4N4VQX",
        "outputId": "52b06cf8-0381-453c-b576-0bd8de9a38b5"
      },
      "execution_count": null,
      "outputs": [
        {
          "output_type": "execute_result",
          "data": {
            "text/plain": [
              "array([[ 0.68537216,  1.92208565, -0.13566043,  0.43920453],\n",
              "       [ 0.47796088,  0.42358302, -0.60457577, -0.13480942],\n",
              "       [ 0.37611945, -0.30709922, -0.65849946, -0.24225621],\n",
              "       [ 0.78209275, -0.99700418,  1.88206279,  0.79213542]])"
            ]
          },
          "metadata": {},
          "execution_count": 6
        }
      ]
    },
    {
      "cell_type": "markdown",
      "source": [
        "## Masking\n",
        "\n",
        "- This is to ensure words don't get context from words generated in the future.\n",
        "- Not required in the encoders, but required int he decoders"
      ],
      "metadata": {
        "id": "Dmz4v-RmMAaj"
      }
    },
    {
      "cell_type": "code",
      "source": [
        "mask = np.tril(np.ones( (L, L) ))\n",
        "mask"
      ],
      "metadata": {
        "colab": {
          "base_uri": "https://localhost:8080/"
        },
        "id": "e8N3OhSLILfG",
        "outputId": "2c63a444-066c-44b2-abe5-242dd989f311"
      },
      "execution_count": null,
      "outputs": [
        {
          "output_type": "execute_result",
          "data": {
            "text/plain": [
              "array([[1., 0., 0., 0.],\n",
              "       [1., 1., 0., 0.],\n",
              "       [1., 1., 1., 0.],\n",
              "       [1., 1., 1., 1.]])"
            ]
          },
          "metadata": {},
          "execution_count": 7
        }
      ]
    },
    {
      "cell_type": "code",
      "source": [
        "mask[mask == 0] = -np.infty\n",
        "mask[mask == 1] = 0"
      ],
      "metadata": {
        "id": "hIV9K3Yn6s1V"
      },
      "execution_count": null,
      "outputs": []
    },
    {
      "cell_type": "code",
      "source": [
        "mask"
      ],
      "metadata": {
        "colab": {
          "base_uri": "https://localhost:8080/"
        },
        "id": "LK5V_T3W6vpX",
        "outputId": "bb4160a1-a011-4850-e403-9cb252572c66"
      },
      "execution_count": null,
      "outputs": [
        {
          "output_type": "execute_result",
          "data": {
            "text/plain": [
              "array([[  0., -inf, -inf, -inf],\n",
              "       [  0.,   0., -inf, -inf],\n",
              "       [  0.,   0.,   0., -inf],\n",
              "       [  0.,   0.,   0.,   0.]])"
            ]
          },
          "metadata": {},
          "execution_count": 9
        }
      ]
    },
    {
      "cell_type": "code",
      "source": [
        "scaled + mask"
      ],
      "metadata": {
        "colab": {
          "base_uri": "https://localhost:8080/"
        },
        "id": "lNH1VgEf7xTa",
        "outputId": "4211c411-0356-4e39-8388-d39b0c1d0920"
      },
      "execution_count": null,
      "outputs": [
        {
          "output_type": "execute_result",
          "data": {
            "text/plain": [
              "array([[ 0.68537216,        -inf,        -inf,        -inf],\n",
              "       [ 0.47796088,  0.42358302,        -inf,        -inf],\n",
              "       [ 0.37611945, -0.30709922, -0.65849946,        -inf],\n",
              "       [ 0.78209275, -0.99700418,  1.88206279,  0.79213542]])"
            ]
          },
          "metadata": {},
          "execution_count": 10
        }
      ]
    },
    {
      "cell_type": "markdown",
      "source": [
        "## Softmax\n",
        "\n",
        "$$\n",
        "\\text{softmax} = \\frac{e^{x_i}}{\\sum_j e^x_j}\n",
        "$$"
      ],
      "metadata": {
        "id": "XMTAXjooN9eZ"
      }
    },
    {
      "cell_type": "code",
      "source": [
        "def softmax(x):\n",
        "  return (np.exp(x).T / np.sum(np.exp(x), axis=-1)).T"
      ],
      "metadata": {
        "id": "2R4gdRqj8W4Y"
      },
      "execution_count": null,
      "outputs": []
    },
    {
      "cell_type": "code",
      "source": [
        "attention = softmax(scaled + mask)"
      ],
      "metadata": {
        "id": "K5eg2zPy41sP"
      },
      "execution_count": null,
      "outputs": []
    },
    {
      "cell_type": "code",
      "source": [
        "attention"
      ],
      "metadata": {
        "colab": {
          "base_uri": "https://localhost:8080/"
        },
        "id": "7sauNmfl-1TB",
        "outputId": "46b22beb-9034-4c7c-8d56-04209d2581c4"
      },
      "execution_count": null,
      "outputs": [
        {
          "output_type": "execute_result",
          "data": {
            "text/plain": [
              "array([[1.        , 0.        , 0.        , 0.        ],\n",
              "       [0.51359112, 0.48640888, 0.        , 0.        ],\n",
              "       [0.53753304, 0.27144826, 0.1910187 , 0.        ],\n",
              "       [0.19293995, 0.03256643, 0.57960627, 0.19488734]])"
            ]
          },
          "metadata": {},
          "execution_count": 21
        }
      ]
    },
    {
      "cell_type": "code",
      "source": [
        "new_v = np.matmul(attention, v)\n",
        "new_v"
      ],
      "metadata": {
        "colab": {
          "base_uri": "https://localhost:8080/"
        },
        "id": "BAy37go56LZo",
        "outputId": "78d97fa1-e0b3-4c1d-8294-bf0fdb77f199"
      },
      "execution_count": null,
      "outputs": [
        {
          "output_type": "execute_result",
          "data": {
            "text/plain": [
              "array([[-0.00368231,  1.43739233, -0.59614565, -1.23171219,  1.12030717,\n",
              "        -0.98620738, -0.15461465, -1.03106383],\n",
              "       [ 0.41440401, -0.13671232,  0.02128364, -0.60532081,  0.49977893,\n",
              "        -1.1936286 , -0.27463831, -1.10169151],\n",
              "       [ 0.32673907,  0.72121642, -0.00947672, -0.59897862,  0.90155754,\n",
              "        -0.88535361, -0.21384855, -0.7053796 ],\n",
              "       [ 0.18700384,  1.67754576,  0.33105314, -0.41795742,  1.4258469 ,\n",
              "        -0.18788199, -0.10285145,  0.54683565]])"
            ]
          },
          "metadata": {},
          "execution_count": 22
        }
      ]
    },
    {
      "cell_type": "code",
      "source": [
        "v"
      ],
      "metadata": {
        "colab": {
          "base_uri": "https://localhost:8080/"
        },
        "id": "vCP2aZOU9VrT",
        "outputId": "e1fe2137-cd95-4a4b-fa1a-3ec21c38104c"
      },
      "execution_count": null,
      "outputs": [
        {
          "output_type": "execute_result",
          "data": {
            "text/plain": [
              "array([[-0.00368231,  1.43739233, -0.59614565, -1.23171219,  1.12030717,\n",
              "        -0.98620738, -0.15461465, -1.03106383],\n",
              "       [ 0.85585446, -1.79878344,  0.67321704,  0.05607552, -0.15542661,\n",
              "        -1.41264124, -0.40136933, -1.17626611],\n",
              "       [ 0.50465335,  2.28693419,  0.67128338,  0.2506863 ,  1.78802234,\n",
              "         0.14775751, -0.11405725,  0.88026286],\n",
              "       [-0.68069105,  0.68385101,  0.17994557, -1.68013201,  0.91543969,\n",
              "        -0.19108312,  0.03160471,  1.40527326]])"
            ]
          },
          "metadata": {},
          "execution_count": 23
        }
      ]
    }
  ]
}